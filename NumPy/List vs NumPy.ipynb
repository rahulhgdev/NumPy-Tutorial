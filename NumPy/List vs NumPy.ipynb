{
 "cells": [
  {
   "cell_type": "markdown",
   "id": "incomplete-examination",
   "metadata": {},
   "source": [
    "# List v/s NumPy Array\n",
    "## 3 - main benefits of numpy array over python list\n",
    "### 1) Less Memory\n",
    "### 2) Fast \n",
    "### 3) Convinient"
   ]
  },
  {
   "cell_type": "markdown",
   "id": "center-bahrain",
   "metadata": {},
   "source": [
    "# #1 - Less Memory Comparison"
   ]
  },
  {
   "cell_type": "code",
   "execution_count": 1,
   "id": "greek-cheese",
   "metadata": {},
   "outputs": [],
   "source": [
    "import numpy as np"
   ]
  },
  {
   "cell_type": "code",
   "execution_count": 2,
   "id": "aging-international",
   "metadata": {},
   "outputs": [],
   "source": [
    "import sys"
   ]
  },
  {
   "cell_type": "code",
   "execution_count": 3,
   "id": "convinced-sucking",
   "metadata": {},
   "outputs": [],
   "source": [
    "import time"
   ]
  },
  {
   "cell_type": "code",
   "execution_count": 4,
   "id": "faced-blank",
   "metadata": {},
   "outputs": [],
   "source": [
    "list = range(1000)"
   ]
  },
  {
   "cell_type": "markdown",
   "id": "great-transparency",
   "metadata": {},
   "source": [
    "## Python List"
   ]
  },
  {
   "cell_type": "code",
   "execution_count": 5,
   "id": "furnished-raise",
   "metadata": {},
   "outputs": [
    {
     "name": "stdout",
     "output_type": "stream",
     "text": [
      "28000\n"
     ]
    }
   ],
   "source": [
    "print(sys.getsizeof(5)*len(list))"
   ]
  },
  {
   "cell_type": "code",
   "execution_count": 6,
   "id": "arctic-ordinance",
   "metadata": {},
   "outputs": [],
   "source": [
    "num_arr = np.arange(1000)"
   ]
  },
  {
   "cell_type": "markdown",
   "id": "confident-farmer",
   "metadata": {},
   "source": [
    "## NumPy Array"
   ]
  },
  {
   "cell_type": "code",
   "execution_count": 7,
   "id": "liked-animal",
   "metadata": {},
   "outputs": [
    {
     "name": "stdout",
     "output_type": "stream",
     "text": [
      "4000\n"
     ]
    }
   ],
   "source": [
    "print(num_arr.size*num_arr.itemsize)"
   ]
  },
  {
   "cell_type": "code",
   "execution_count": null,
   "id": "aquatic-registrar",
   "metadata": {},
   "outputs": [],
   "source": []
  },
  {
   "cell_type": "markdown",
   "id": "racial-heading",
   "metadata": {},
   "source": [
    "# # 2 - Fast Comparison"
   ]
  },
  {
   "cell_type": "code",
   "execution_count": 8,
   "id": "administrative-indication",
   "metadata": {},
   "outputs": [],
   "source": [
    "#In Numpy array, 1 element takes 4 bytes where as in List, 1 object takes 14 bytes that's why NumPy array is fast as compared to List"
   ]
  },
  {
   "cell_type": "code",
   "execution_count": 9,
   "id": "norwegian-breath",
   "metadata": {},
   "outputs": [],
   "source": [
    "SIZE = 1000000"
   ]
  },
  {
   "cell_type": "code",
   "execution_count": 10,
   "id": "opened-utility",
   "metadata": {},
   "outputs": [],
   "source": [
    "l1 = range(SIZE)"
   ]
  },
  {
   "cell_type": "code",
   "execution_count": 11,
   "id": "overall-italy",
   "metadata": {},
   "outputs": [],
   "source": [
    "l2 =  range(SIZE)"
   ]
  },
  {
   "cell_type": "code",
   "execution_count": 12,
   "id": "filled-singles",
   "metadata": {},
   "outputs": [],
   "source": [
    "numarr1 = np.arange(SIZE)"
   ]
  },
  {
   "cell_type": "code",
   "execution_count": 13,
   "id": "secondary-albany",
   "metadata": {},
   "outputs": [],
   "source": [
    "numarr2 = np.arange(SIZE)"
   ]
  },
  {
   "cell_type": "code",
   "execution_count": 14,
   "id": "visible-basin",
   "metadata": {},
   "outputs": [],
   "source": [
    "start = time.time()"
   ]
  },
  {
   "cell_type": "markdown",
   "id": "upset-flight",
   "metadata": {},
   "source": [
    "## Python List"
   ]
  },
  {
   "cell_type": "code",
   "execution_count": 15,
   "id": "contemporary-painting",
   "metadata": {},
   "outputs": [],
   "source": [
    "rslt_list = [(x+y) for x,y in zip(l1,l2)]"
   ]
  },
  {
   "cell_type": "code",
   "execution_count": 16,
   "id": "standard-instrument",
   "metadata": {},
   "outputs": [
    {
     "name": "stdout",
     "output_type": "stream",
     "text": [
      "python list took 95.46327590942383\n"
     ]
    }
   ],
   "source": [
    "print(\"python list took\",(time.time()-start)*1000)"
   ]
  },
  {
   "cell_type": "markdown",
   "id": "educated-prime",
   "metadata": {},
   "source": [
    "## NumPy Array"
   ]
  },
  {
   "cell_type": "code",
   "execution_count": 17,
   "id": "spanish-scientist",
   "metadata": {},
   "outputs": [],
   "source": [
    "start = time.time()"
   ]
  },
  {
   "cell_type": "code",
   "execution_count": 18,
   "id": "requested-working",
   "metadata": {},
   "outputs": [],
   "source": [
    "rslt_numarr = numarr1 + numarr2"
   ]
  },
  {
   "cell_type": "code",
   "execution_count": 19,
   "id": "abandoned-potential",
   "metadata": {},
   "outputs": [
    {
     "name": "stdout",
     "output_type": "stream",
     "text": [
      "Numpy took 32.018184661865234\n"
     ]
    }
   ],
   "source": [
    "print(\"Numpy took\",(time.time()-start)*1000)"
   ]
  },
  {
   "cell_type": "code",
   "execution_count": null,
   "id": "satisfactory-shore",
   "metadata": {},
   "outputs": [],
   "source": []
  },
  {
   "cell_type": "markdown",
   "id": "worldwide-picking",
   "metadata": {},
   "source": [
    "# # 3 - Convinient Comparison"
   ]
  },
  {
   "cell_type": "markdown",
   "id": "aerial-newton",
   "metadata": {},
   "source": [
    "## Python List"
   ]
  },
  {
   "cell_type": "code",
   "execution_count": 20,
   "id": "failing-brain",
   "metadata": {},
   "outputs": [],
   "source": [
    "list = [1,2,3,4]"
   ]
  },
  {
   "cell_type": "code",
   "execution_count": 21,
   "id": "visible-heath",
   "metadata": {},
   "outputs": [],
   "source": [
    "list2 = [5,6,7,8]"
   ]
  },
  {
   "cell_type": "code",
   "execution_count": 22,
   "id": "least-israel",
   "metadata": {},
   "outputs": [
    {
     "data": {
      "text/plain": [
       "[1, 2, 3, 4, 5, 6, 7, 8]"
      ]
     },
     "execution_count": 22,
     "metadata": {},
     "output_type": "execute_result"
    }
   ],
   "source": [
    "list + list2   # adding 2 list will merge 2 list instead of adding elements. To add 2 list we have to use List Comprehension"
   ]
  },
  {
   "cell_type": "markdown",
   "id": "reasonable-pendant",
   "metadata": {},
   "source": [
    "## NumPy Array"
   ]
  },
  {
   "cell_type": "code",
   "execution_count": 23,
   "id": "sunrise-shield",
   "metadata": {},
   "outputs": [],
   "source": [
    "n1 = np.array([1,2,3,4])"
   ]
  },
  {
   "cell_type": "code",
   "execution_count": 24,
   "id": "compound-allen",
   "metadata": {},
   "outputs": [],
   "source": [
    "n2 = np.array([5,6,7,8])"
   ]
  },
  {
   "cell_type": "code",
   "execution_count": 25,
   "id": "light-delhi",
   "metadata": {},
   "outputs": [
    {
     "data": {
      "text/plain": [
       "array([ 6,  8, 10, 12])"
      ]
     },
     "execution_count": 25,
     "metadata": {},
     "output_type": "execute_result"
    }
   ],
   "source": [
    "n1 + n2       # adding or related operation can easily implemented on NumPy array instead of using comprehension"
   ]
  },
  {
   "cell_type": "code",
   "execution_count": 26,
   "id": "inner-injury",
   "metadata": {},
   "outputs": [
    {
     "data": {
      "text/plain": [
       "array([-4, -4, -4, -4])"
      ]
     },
     "execution_count": 26,
     "metadata": {},
     "output_type": "execute_result"
    }
   ],
   "source": [
    "n1 - n2"
   ]
  },
  {
   "cell_type": "code",
   "execution_count": 27,
   "id": "increased-account",
   "metadata": {},
   "outputs": [
    {
     "data": {
      "text/plain": [
       "array([ 5, 12, 21, 32])"
      ]
     },
     "execution_count": 27,
     "metadata": {},
     "output_type": "execute_result"
    }
   ],
   "source": [
    "n1 * n2"
   ]
  },
  {
   "cell_type": "code",
   "execution_count": 28,
   "id": "concrete-joyce",
   "metadata": {},
   "outputs": [
    {
     "data": {
      "text/plain": [
       "array([0.2       , 0.33333333, 0.42857143, 0.5       ])"
      ]
     },
     "execution_count": 28,
     "metadata": {},
     "output_type": "execute_result"
    }
   ],
   "source": [
    "n1 / n2"
   ]
  },
  {
   "cell_type": "code",
   "execution_count": null,
   "id": "bigger-outline",
   "metadata": {},
   "outputs": [],
   "source": []
  }
 ],
 "metadata": {
  "kernelspec": {
   "display_name": "Python 3",
   "language": "python",
   "name": "python3"
  },
  "language_info": {
   "codemirror_mode": {
    "name": "ipython",
    "version": 3
   },
   "file_extension": ".py",
   "mimetype": "text/x-python",
   "name": "python",
   "nbconvert_exporter": "python",
   "pygments_lexer": "ipython3",
   "version": "3.9.1"
  }
 },
 "nbformat": 4,
 "nbformat_minor": 5
}
