{
 "cells": [
  {
   "cell_type": "code",
   "execution_count": 1,
   "id": "european-typing",
   "metadata": {},
   "outputs": [],
   "source": [
    "import numpy as np\n",
    "import pandas as pd"
   ]
  },
  {
   "cell_type": "markdown",
   "id": "streaming-setting",
   "metadata": {},
   "source": [
    "# *Series"
   ]
  },
  {
   "cell_type": "code",
   "execution_count": 2,
   "id": "funky-grove",
   "metadata": {},
   "outputs": [],
   "source": [
    "lbl = ['x','y','z']\n",
    "my_data = [11,22,33]\n",
    "arr = np.array(my_data)\n",
    "d = {'a':10, 'b':20,'c':30}"
   ]
  },
  {
   "cell_type": "markdown",
   "id": "agreed-requirement",
   "metadata": {},
   "source": [
    "## Creating pandas series"
   ]
  },
  {
   "cell_type": "markdown",
   "id": "subjective-closing",
   "metadata": {},
   "source": [
    "### 1) Using Python List"
   ]
  },
  {
   "cell_type": "code",
   "execution_count": 3,
   "id": "composed-nickel",
   "metadata": {},
   "outputs": [
    {
     "data": {
      "text/plain": [
       "0    11\n",
       "1    22\n",
       "2    33\n",
       "dtype: int64"
      ]
     },
     "execution_count": 3,
     "metadata": {},
     "output_type": "execute_result"
    }
   ],
   "source": [
    "pd.Series(my_data)               #it looks like numpy array but it has index"
   ]
  },
  {
   "cell_type": "code",
   "execution_count": 4,
   "id": "grateful-static",
   "metadata": {},
   "outputs": [
    {
     "data": {
      "text/plain": [
       "x    11\n",
       "y    22\n",
       "z    33\n",
       "dtype: int64"
      ]
     },
     "execution_count": 4,
     "metadata": {},
     "output_type": "execute_result"
    }
   ],
   "source": [
    "pd.Series(my_data,lbl)       # setting label as index"
   ]
  },
  {
   "cell_type": "markdown",
   "id": "religious-editor",
   "metadata": {},
   "source": [
    "### 2) Using Numpy Array"
   ]
  },
  {
   "cell_type": "code",
   "execution_count": 5,
   "id": "adjusted-hurricane",
   "metadata": {},
   "outputs": [
    {
     "data": {
      "text/plain": [
       "0    11\n",
       "1    22\n",
       "2    33\n",
       "dtype: int32"
      ]
     },
     "execution_count": 5,
     "metadata": {},
     "output_type": "execute_result"
    }
   ],
   "source": [
    "pd.Series(arr)"
   ]
  },
  {
   "cell_type": "markdown",
   "id": "exciting-caribbean",
   "metadata": {},
   "source": [
    "### 3) Using Python Dictionary"
   ]
  },
  {
   "cell_type": "code",
   "execution_count": 6,
   "id": "detected-indonesia",
   "metadata": {},
   "outputs": [
    {
     "data": {
      "text/plain": [
       "a    10\n",
       "b    20\n",
       "c    30\n",
       "dtype: int64"
      ]
     },
     "execution_count": 6,
     "metadata": {},
     "output_type": "execute_result"
    }
   ],
   "source": [
    "pd.Series(d)      # it automatically takes key as index "
   ]
  },
  {
   "cell_type": "code",
   "execution_count": 7,
   "id": "standard-leadership",
   "metadata": {},
   "outputs": [],
   "source": [
    "## series can almost hold any type object for eg. as below"
   ]
  },
  {
   "cell_type": "code",
   "execution_count": 8,
   "id": "incorrect-rhythm",
   "metadata": {},
   "outputs": [
    {
     "data": {
      "text/plain": [
       "['x', 'y', 'z']"
      ]
     },
     "execution_count": 8,
     "metadata": {},
     "output_type": "execute_result"
    }
   ],
   "source": [
    "lbl"
   ]
  },
  {
   "cell_type": "code",
   "execution_count": 9,
   "id": "parliamentary-lesson",
   "metadata": {},
   "outputs": [
    {
     "data": {
      "text/plain": [
       "0    x\n",
       "1    y\n",
       "2    z\n",
       "dtype: object"
      ]
     },
     "execution_count": 9,
     "metadata": {},
     "output_type": "execute_result"
    }
   ],
   "source": [
    "pd.Series(lbl)"
   ]
  },
  {
   "cell_type": "code",
   "execution_count": 10,
   "id": "ordinary-amendment",
   "metadata": {},
   "outputs": [
    {
     "data": {
      "text/plain": [
       "0      <built-in function sum>\n",
       "1    <built-in function print>\n",
       "2      <built-in function len>\n",
       "dtype: object"
      ]
     },
     "execution_count": 10,
     "metadata": {},
     "output_type": "execute_result"
    }
   ],
   "source": [
    "pd.Series([sum,print,len])"
   ]
  },
  {
   "cell_type": "code",
   "execution_count": 11,
   "id": "regulated-syntax",
   "metadata": {},
   "outputs": [],
   "source": [
    "## Accessing values using index/key"
   ]
  },
  {
   "cell_type": "code",
   "execution_count": 12,
   "id": "comfortable-system",
   "metadata": {},
   "outputs": [],
   "source": [
    "series1 =  pd.Series([1,2,3,4], ['India','SriLanka','Bhutan','Nepal'])\n",
    "series2 =  pd.Series([1,2,3,4],['India','Afganistan','Bhutan','Myanmar'])"
   ]
  },
  {
   "cell_type": "code",
   "execution_count": 13,
   "id": "prospective-relations",
   "metadata": {},
   "outputs": [
    {
     "data": {
      "text/plain": [
       "4"
      ]
     },
     "execution_count": 13,
     "metadata": {},
     "output_type": "execute_result"
    }
   ],
   "source": [
    "series1['Nepal']"
   ]
  },
  {
   "cell_type": "code",
   "execution_count": 14,
   "id": "unable-surname",
   "metadata": {},
   "outputs": [
    {
     "data": {
      "text/plain": [
       "3"
      ]
     },
     "execution_count": 14,
     "metadata": {},
     "output_type": "execute_result"
    }
   ],
   "source": [
    "series2[2]"
   ]
  },
  {
   "cell_type": "code",
   "execution_count": 15,
   "id": "thermal-rapid",
   "metadata": {},
   "outputs": [
    {
     "data": {
      "text/plain": [
       "Afganistan    NaN\n",
       "Bhutan        6.0\n",
       "India         2.0\n",
       "Myanmar       NaN\n",
       "Nepal         NaN\n",
       "SriLanka      NaN\n",
       "dtype: float64"
      ]
     },
     "execution_count": 15,
     "metadata": {},
     "output_type": "execute_result"
    }
   ],
   "source": [
    "series1 + series2"
   ]
  },
  {
   "cell_type": "markdown",
   "id": "limiting-promotion",
   "metadata": {},
   "source": [
    "# *DataFrame"
   ]
  },
  {
   "cell_type": "code",
   "execution_count": null,
   "id": "qualified-agreement",
   "metadata": {},
   "outputs": [],
   "source": []
  }
 ],
 "metadata": {
  "kernelspec": {
   "display_name": "Python 3",
   "language": "python",
   "name": "python3"
  },
  "language_info": {
   "codemirror_mode": {
    "name": "ipython",
    "version": 3
   },
   "file_extension": ".py",
   "mimetype": "text/x-python",
   "name": "python",
   "nbconvert_exporter": "python",
   "pygments_lexer": "ipython3",
   "version": "3.9.0"
  }
 },
 "nbformat": 4,
 "nbformat_minor": 5
}
